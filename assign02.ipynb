{
 "cells": [
  {
   "cell_type": "code",
   "execution_count": 2,
   "metadata": {},
   "outputs": [],
   "source": [
    "# attacker has PU and ciphertext\n",
    "# generate 2^56 keys\n",
    "# send one key as message and E with PU\n",
    "# compare ciphers"
   ]
  },
  {
   "cell_type": "code",
   "execution_count": 45,
   "metadata": {},
   "outputs": [],
   "source": [
    "# !pip install pycrypto"
   ]
  },
  {
   "cell_type": "code",
   "execution_count": 1,
   "metadata": {},
   "outputs": [],
   "source": [
    "def get_keys():\n",
    "    keys= []\n",
    "    for i in range(0,pow(2,27)):   # 134,217,728 keys\n",
    "        i = hex(i)\n",
    "        val = i[2:]\n",
    "        \n",
    "        for i in range(16):\n",
    "            if len(val) < 16:\n",
    "                val = '0' + val\n",
    "        \n",
    "        keys.append(val)\n",
    "        \n",
    "    return keys"
   ]
  },
  {
   "cell_type": "code",
   "execution_count": 2,
   "metadata": {
    "scrolled": true
   },
   "outputs": [
    {
     "name": "stdout",
     "output_type": "stream",
     "text": [
      "Wall time: 12min 5s\n"
     ]
    }
   ],
   "source": [
    "# %time k = get_keys()"
   ]
  },
  {
   "cell_type": "code",
   "execution_count": 11,
   "metadata": {},
   "outputs": [
    {
     "data": {
      "text/plain": [
       "'000000000454c100'"
      ]
     },
     "execution_count": 11,
     "metadata": {},
     "output_type": "execute_result"
    }
   ],
   "source": [
    "# selecting M\n",
    "k[72663296]"
   ]
  },
  {
   "cell_type": "code",
   "execution_count": 12,
   "metadata": {},
   "outputs": [
    {
     "name": "stdout",
     "output_type": "stream",
     "text": [
      "===========================================================================================================\n",
      "================================== RSA Encryptor / Decrypter ==============================================\n",
      " \n",
      " - Enter a prime number (17, 19, 23, etc): 73\n",
      " - Enter another prime number (Not one you entered above): 89\n",
      " - Generating your public / private key-pairs now . . .\n",
      " - Your public key is  (4739, 6497)  and your private key is  (5483, 6497)\n",
      " - Enter a message to encrypt with your public key: 000000000454c100\n",
      " - Your encrypted message is:  3846384638463846384638463846384638462124639821241864562438463846\n",
      " - Decrypting message with private key  (5483, 6497)  . . .\n",
      " - Your message is:  000000000454c100\n",
      " \n",
      "============================================ END ==========================================================\n",
      "===========================================================================================================\n"
     ]
    }
   ],
   "source": [
    "import random\n",
    "\n",
    "\n",
    "'''\n",
    "Euclid's algorithm for determining the greatest common divisor\n",
    "Use iteration to make it faster for larger integers\n",
    "'''\n",
    "\n",
    "def gcd(a, b):\n",
    "    while b != 0:\n",
    "        a, b = b, a % b\n",
    "    return a\n",
    "\n",
    "\n",
    "'''\n",
    "Euclid's extended algorithm for finding the multiplicative inverse of two numbers\n",
    "'''\n",
    "\n",
    "\n",
    "def multiplicative_inverse(e, phi):\n",
    "    d = 0\n",
    "    x1 = 0\n",
    "    x2 = 1\n",
    "    y1 = 1\n",
    "    temp_phi = phi\n",
    "\n",
    "    while e > 0:\n",
    "        temp1 = temp_phi//e\n",
    "        temp2 = temp_phi - temp1 * e\n",
    "        temp_phi = e\n",
    "        e = temp2\n",
    "\n",
    "        x = x2 - temp1 * x1\n",
    "        y = d - temp1 * y1\n",
    "\n",
    "        x2 = x1\n",
    "        x1 = x\n",
    "        d = y1\n",
    "        y1 = y\n",
    "\n",
    "    if temp_phi == 1:\n",
    "        return d + phi\n",
    "\n",
    "\n",
    "'''\n",
    "Tests to see if a number is prime.\n",
    "'''\n",
    "\n",
    "\n",
    "def is_prime(num):\n",
    "    if num == 2:\n",
    "        return True\n",
    "    if num < 2 or num % 2 == 0:\n",
    "        return False\n",
    "    for n in range(3, int(num**0.5)+2, 2):\n",
    "        if num % n == 0:\n",
    "            return False\n",
    "    return True\n",
    "\n",
    "\n",
    "def generate_key_pair(p, q):\n",
    "    if not (is_prime(p) and is_prime(q)):\n",
    "        raise ValueError('Both numbers must be prime.')\n",
    "    elif p == q:\n",
    "        raise ValueError('p and q cannot be equal')\n",
    "    # n = pq\n",
    "    n = p * q\n",
    "\n",
    "    # Phi is the totient of n\n",
    "    phi = (p-1) * (q-1)\n",
    "\n",
    "    # Choose an integer e such that e and phi(n) are coprime\n",
    "    e = random.randrange(1, phi)\n",
    "\n",
    "    # Use Euclid's Algorithm to verify that e and phi(n) are coprime\n",
    "    g = gcd(e, phi)\n",
    "    while g != 1:\n",
    "        e = random.randrange(1, phi)\n",
    "        g = gcd(e, phi)\n",
    "\n",
    "    # Use Extended Euclid's Algorithm to generate the private key\n",
    "    d = multiplicative_inverse(e, phi)\n",
    "\n",
    "    # Return public and private key_pair\n",
    "    # Public key is (e, n) and private key is (d, n)\n",
    "    return ((e, n), (d, n))\n",
    "\n",
    "\n",
    "def encrypt(pk, plaintext):\n",
    "    # Unpack the key into it's components\n",
    "    key, n = pk\n",
    "    \n",
    "    # Convert each letter in the plaintext to numbers based on the character using a^b mod m\n",
    "    cipher = [pow(ord(char), key, n) for char in plaintext]\n",
    "#     cipher = cipher[1:-1]\n",
    "    \n",
    "    string=''\n",
    "    for i in cipher:\n",
    "        string = string+str(i)\n",
    "                \n",
    "    # Return the array of bytes\n",
    "    return int(string), cipher\n",
    "\n",
    "\n",
    "def decrypt(pk, ciphertext):\n",
    "    # Unpack the key into its components\n",
    "    key, n = pk\n",
    "    # Generate the plaintext based on the ciphertext and key using a^b mod m\n",
    "    aux = [str(pow(char, key, n)) for char in ciphertext]\n",
    "    # Return the array of bytes as a string\n",
    "    plain = [chr(int(char2)) for char2 in aux]\n",
    "    return ''.join(plain)\n",
    "\n",
    "\n",
    "if __name__ == '__main__':\n",
    "    '''\n",
    "    Detect if the script is being run directly by the user\n",
    "    '''\n",
    "    print(\"===========================================================================================================\")\n",
    "    print(\"================================== RSA Encryptor / Decrypter ==============================================\")\n",
    "    print(\" \")\n",
    "\n",
    "    p = int(input(\" - Enter a prime number (17, 19, 23, etc): \"))\n",
    "    q = int(input(\" - Enter another prime number (Not one you entered above): \"))\n",
    "\n",
    "    print(\" - Generating your public / private key-pairs now . . .\")\n",
    "\n",
    "    public, private = generate_key_pair(p, q)\n",
    "\n",
    "    print(\" - Your public key is \", public, \" and your private key is \", private)\n",
    "\n",
    "    message = input(\" - Enter a message to encrypt with your public key: \")\n",
    "    encrypted_msg, for_decryption = encrypt(public, message)\n",
    "\n",
    "    print(\" - Your encrypted message is: \", encrypted_msg)\n",
    "    print(\" - Decrypting message with private key \", private, \" . . .\")\n",
    "    print(\" - Your message is: \", decrypt(private, for_decryption))\n",
    "\n",
    "    print(\" \")\n",
    "    print(\"============================================ END ==========================================================\")\n",
    "    print(\"===========================================================================================================\")"
   ]
  },
  {
   "cell_type": "code",
   "execution_count": 8,
   "metadata": {},
   "outputs": [],
   "source": [
    "def prob_msg_attack(pubkey, ciphertext):\n",
    "    for i in k:\n",
    "        c, x = encrypt(pubkey,i)\n",
    "        if c == ciphertext:\n",
    "            break\n",
    "    return i"
   ]
  },
  {
   "cell_type": "code",
   "execution_count": 13,
   "metadata": {},
   "outputs": [
    {
     "name": "stdout",
     "output_type": "stream",
     "text": [
      "Wall time: 1h 7min 10s\n",
      "000000000454c100\n"
     ]
    }
   ],
   "source": [
    "%time M = prob_msg_attack((4739,6497),3846384638463846384638463846384638462124639821241864562438463846)\n",
    "print(M)"
   ]
  },
  {
   "cell_type": "code",
   "execution_count": null,
   "metadata": {},
   "outputs": [],
   "source": []
  }
 ],
 "metadata": {
  "kernelspec": {
   "display_name": "Python 3",
   "language": "python",
   "name": "python3"
  },
  "language_info": {
   "codemirror_mode": {
    "name": "ipython",
    "version": 3
   },
   "file_extension": ".py",
   "mimetype": "text/x-python",
   "name": "python",
   "nbconvert_exporter": "python",
   "pygments_lexer": "ipython3",
   "version": "3.7.4"
  }
 },
 "nbformat": 4,
 "nbformat_minor": 2
}
